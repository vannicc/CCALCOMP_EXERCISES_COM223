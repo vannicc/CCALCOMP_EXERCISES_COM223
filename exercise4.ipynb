{
  "cells": [
    {
      "cell_type": "markdown",
      "metadata": {
        "id": "cPRRjBOhHHMh"
      },
      "source": [
        "# Exercise 4\n",
        "\n",
        "Please follow the instructions in each number."
      ]
    },
    {
      "cell_type": "markdown",
      "metadata": {
        "id": "zvDTNWRFHHMk"
      },
      "source": [
        "### Activity Selection Problem\n",
        "\n",
        "Given a set of activities, along with the starting and finishing time of each activity, find the maximum number of activities performed by a single person assuming that a person can only work on a single activity at a time.\n",
        "\n",
        "For example,\n",
        "\n",
        "Input: Following set of activities (1, 4), (3, 5), (0, 6), (5, 7), (3, 8), (5, 9), (6, 10), (8, 11), (8, 12), (2, 13), (12, 14)  \n",
        "\n",
        "Output: (1, 4), (5, 7), (8, 11), (12, 14)"
      ]
    },
    {
      "cell_type": "markdown",
      "metadata": {
        "id": "ff7w7YLGHHMl"
      },
      "source": [
        "## Tasks"
      ]
    },
    {
      "cell_type": "markdown",
      "metadata": {
        "id": "0QLHdoNSHHMl"
      },
      "source": [
        "1. Write a program using a recursive greedy approach to get the maximum number of activities (`50 points`)"
      ]
    },
    {
      "cell_type": "code",
      "execution_count": null,
      "metadata": {
        "vscode": {
          "languageId": "plaintext"
        },
        "id": "Xe02cHvAHHMl",
        "colab": {
          "base_uri": "https://localhost:8080/"
        },
        "outputId": "b4e49eca-1e4a-4ab8-d17e-e5a788e3db73"
      },
      "outputs": [
        {
          "output_type": "stream",
          "name": "stdout",
          "text": [
            "Following activities are selected:\n",
            "(1, 4)\n",
            "(5, 7)\n",
            "(8, 11)\n",
            "(12, 14)\n"
          ]
        }
      ],
      "source": [
        "# put your answer here\n",
        "def select_activities(start, finish, i, n, selected):\n",
        "  # Base case: No more activities to check\n",
        "  if i == n:\n",
        "    return selected\n",
        "\n",
        "  # Include current activity if it doesn't conflict with previously selected ones\n",
        "  if not selected or start[i] >= finish[selected[-1]]:\n",
        "    selected.append(i)\n",
        "\n",
        "  # Recursively find activities compatible with the current selection\n",
        "  return select_activities(start, finish, i + 1, n, selected)\n",
        "\n",
        "def print_max_activities(start, finish):\n",
        "  n = len(start)\n",
        "  # Sort activities by their finish time\n",
        "  sorted_activities = sorted(zip(start, finish), key=lambda x: x[1])\n",
        "  start, finish = zip(*sorted_activities)\n",
        "\n",
        "  selected = select_activities(start, finish, 0, n, [])\n",
        "\n",
        "  print(\"Following activities are selected:\")\n",
        "  for i in selected:\n",
        "    print(f\"({start[i]}, {finish[i]})\")\n",
        "\n",
        "# Example usage\n",
        "start = [1, 3, 0, 5, 3, 5, 6, 8, 8, 2, 12]\n",
        "finish = [4, 5, 6, 7, 8, 9, 10, 11, 12, 13, 14]\n",
        "print_max_activities(start, finish)"
      ]
    },
    {
      "cell_type": "markdown",
      "metadata": {
        "id": "eZe27u4LHHMn"
      },
      "source": [
        "2. Write a program using a iterative greedy approach to get the maximun number of activities (`50 points`)"
      ]
    },
    {
      "cell_type": "code",
      "execution_count": null,
      "metadata": {
        "vscode": {
          "languageId": "plaintext"
        },
        "id": "UrSZyQwEHHMn",
        "colab": {
          "base_uri": "https://localhost:8080/"
        },
        "outputId": "d15e9b2c-b9b2-41e1-9297-d43a578cb1d3"
      },
      "outputs": [
        {
          "output_type": "stream",
          "name": "stdout",
          "text": [
            "Selected activities: [(1, 4), (5, 7), (8, 11), (12, 14)]\n"
          ]
        }
      ],
      "source": [
        "# put your answer here\n",
        "def select_activities(activities):\n",
        "  # Sort the activities by their finishing time.\n",
        "  activities.sort(key=lambda x: x[1])\n",
        "\n",
        "  selected_activities = []\n",
        "  current_activity = activities[0]\n",
        "  selected_activities.append(current_activity)\n",
        "\n",
        "  # Iterate through the remaining activities.\n",
        "  for next_activity in activities[1:]:\n",
        "    # If the next activity starts after the current activity finishes, include it.\n",
        "    if next_activity[0] >= current_activity[1]:\n",
        "      selected_activities.append(next_activity)\n",
        "      current_activity = next_activity\n",
        "\n",
        "  return selected_activities\n",
        "\n",
        "# Example activities\n",
        "activities = [(1, 4), (3, 5), (0, 6), (5, 7), (3, 8), (5, 9), (6, 10), (8, 11), (8, 12), (2, 13), (12, 14)]\n",
        "\n",
        "# Select the maximum number of activities\n",
        "selected_activities = select_activities(activities.copy())\n",
        "\n",
        "# Print the selected activities\n",
        "print(\"Selected activities:\", selected_activities)"
      ]
    }
  ],
  "metadata": {
    "colab": {
      "provenance": []
    },
    "kernelspec": {
      "display_name": "base",
      "language": "python",
      "name": "python3"
    },
    "language_info": {
      "codemirror_mode": {
        "name": "ipython",
        "version": 3
      },
      "file_extension": ".py",
      "mimetype": "text/x-python",
      "name": "python",
      "nbconvert_exporter": "python",
      "pygments_lexer": "ipython3",
      "version": "3.9.6"
    }
  },
  "nbformat": 4,
  "nbformat_minor": 0
}