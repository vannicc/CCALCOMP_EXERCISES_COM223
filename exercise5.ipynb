{
  "cells": [
    {
      "cell_type": "markdown",
      "metadata": {
        "id": "-8bYOEC8HOQ4"
      },
      "source": [
        "# Exercise 5\n",
        "\n",
        "Please follow the instructions in each number."
      ]
    },
    {
      "cell_type": "markdown",
      "metadata": {
        "id": "FEPXLUAPHOQ6"
      },
      "source": [
        "### Maximum Subarray\n",
        "Given an array of integers nums, find the subarray with the largest sum and return the sum.\n",
        "\n",
        "A subarray is a contiguous non-empty sequence of elements within an array.\n",
        "\n",
        "\n",
        "\n",
        "Example 1:\n",
        "\n",
        "Input: nums = [2,-3,4,-2,2,1,-1,4]\n",
        "\n",
        "Output: 8\n",
        "\n",
        "Explanation: The subarray [4,-2,2,1,-1,4] has the largest sum 8."
      ]
    },
    {
      "cell_type": "markdown",
      "metadata": {
        "id": "D4a-4yS4HOQ7"
      },
      "source": [
        "## Tasks"
      ]
    },
    {
      "cell_type": "markdown",
      "metadata": {
        "id": "v8mlE6kYHOQ7"
      },
      "source": [
        "1. Put your student number in a list and manually compute the maximum subarray in your student number (`10 points`)"
      ]
    },
    {
      "cell_type": "code",
      "execution_count": 2,
      "metadata": {
        "vscode": {
          "languageId": "plaintext"
        },
        "id": "YJMIVpuTHOQ8",
        "colab": {
          "base_uri": "https://localhost:8080/"
        },
        "outputId": "6e8a2207-d50b-4799-ccd4-4388b5d62755"
      },
      "outputs": [
        {
          "output_type": "stream",
          "name": "stdout",
          "text": [
            "20\n"
          ]
        }
      ],
      "source": [
        "def max_subarray(nums):\n",
        "  # Initialize variables to track the current and maximum subarray sum.\n",
        "  current_sum = max_sum = nums[0]\n",
        "\n",
        "  for num in nums[1:]:\n",
        "    # Update the current subarray sum\n",
        "    current_sum = max(num, current_sum + num)\n",
        "    # Update the maximum subarray sum if the current sum is larger.\n",
        "    max_sum = max(max_sum, current_sum)\n",
        "\n",
        "  return max_sum\n",
        "\n",
        "# Example usage\n",
        "student_number = [2, 0, 2, 2, -1, 0, 2, 2, 5, 6]\n",
        "print(max_subarray(student_number))"
      ]
    },
    {
      "cell_type": "markdown",
      "metadata": {
        "id": "nchQgI2KHOQ8"
      },
      "source": [
        "2. Write a program using a brute-force approach to get the maximum-subarray of your student number (`40 points`)"
      ]
    },
    {
      "cell_type": "code",
      "execution_count": 3,
      "metadata": {
        "vscode": {
          "languageId": "plaintext"
        },
        "id": "b9P6oe11HOQ9",
        "colab": {
          "base_uri": "https://localhost:8080/"
        },
        "outputId": "5e3136d3-1809-48df-f2aa-aad759bb53b8"
      },
      "outputs": [
        {
          "output_type": "stream",
          "name": "stdout",
          "text": [
            "Maximum subarray sum in student number: 20\n"
          ]
        }
      ],
      "source": [
        "# put your answer here\n",
        "def max_subarray_brute_force(student_number):\n",
        "  max_sum = float('-inf')  # Initialize with negative infinity to handle all-negative cases\n",
        "\n",
        "  # Iterate through all possible subarrays\n",
        "  for start_index in range(len(student_number)):\n",
        "    for end_index in range(start_index + 1, len(student_number) + 1):\n",
        "      subarray_sum = sum(student_number[start_index:end_index])\n",
        "      max_sum = max(max_sum, subarray_sum)\n",
        "\n",
        "  return max_sum\n",
        "\n",
        "my_student_number = [2, 0, 2, 2, -1, 0, 2, 2, 5, 6]\n",
        "max_subarray_sum = max_subarray_brute_force(my_student_number)\n",
        "print(f\"Maximum subarray sum in student number: {max_subarray_sum}\")"
      ]
    },
    {
      "cell_type": "markdown",
      "metadata": {
        "id": "NkqAxIx_HOQ9"
      },
      "source": [
        "3. Write a program using a dynamic programming to get the maximum-subarray of your student number (`50 points`)"
      ]
    },
    {
      "cell_type": "code",
      "execution_count": 1,
      "metadata": {
        "vscode": {
          "languageId": "plaintext"
        },
        "id": "BFBp2ARLHOQ9",
        "colab": {
          "base_uri": "https://localhost:8080/"
        },
        "outputId": "b4731f86-37b2-4b9c-de6e-8a4bc0e24f1a"
      },
      "outputs": [
        {
          "output_type": "stream",
          "name": "stdout",
          "text": [
            "Maximum subarray sum in student number: 20\n"
          ]
        }
      ],
      "source": [
        "# put your answer here\n",
        "def max_subarray_dp(student_number):\n",
        "  n = len(student_number)\n",
        "  dp = [0] * n  # Initialize dp array with zeros\n",
        "\n",
        "  # Base case: The subarray with a single element is itself\n",
        "  dp[0] = student_number[0]\n",
        "\n",
        "  # Iterate through the list from the second element\n",
        "  for i in range(1, n):\n",
        "    # Consider including the current element or starting a new subarray\n",
        "    dp[i] = max(student_number[i], dp[i-1] + student_number[i])\n",
        "\n",
        "  # Maximum subarray sum is the maximum value in the dp array\n",
        "  return max(dp)\n",
        "\n",
        "my_student_number = [2, 0, 2, 2, -1, 0, 2, 2, 5, 6]\n",
        "max_subarray_sum = max_subarray_dp(my_student_number)\n",
        "print(f\"Maximum subarray sum in student number: {max_subarray_sum}\")"
      ]
    }
  ],
  "metadata": {
    "colab": {
      "provenance": []
    },
    "kernelspec": {
      "display_name": "base",
      "language": "python",
      "name": "python3"
    },
    "language_info": {
      "codemirror_mode": {
        "name": "ipython",
        "version": 3
      },
      "file_extension": ".py",
      "mimetype": "text/x-python",
      "name": "python",
      "nbconvert_exporter": "python",
      "pygments_lexer": "ipython3",
      "version": "3.9.6"
    }
  },
  "nbformat": 4,
  "nbformat_minor": 0
}