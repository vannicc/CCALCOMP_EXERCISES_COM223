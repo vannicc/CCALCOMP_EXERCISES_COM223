{
  "cells": [
    {
      "cell_type": "markdown",
      "metadata": {
        "id": "3-prKGbfwFRd"
      },
      "source": [
        "# Exercise 1"
      ]
    },
    {
      "cell_type": "markdown",
      "metadata": {
        "id": "kBW-_z9HwFRf"
      },
      "source": [
        "Please follow the instructions in each number. Do not remove or modify the pre-defined code!"
      ]
    },
    {
      "cell_type": "code",
      "execution_count": 27,
      "metadata": {
        "id": "ABAdD_ngwFRg"
      },
      "outputs": [],
      "source": [
        "# Add a vertex to the set of vertices and the graph\n",
        "def add_vertex(v):\n",
        "  global graph\n",
        "  global vertices_no\n",
        "  global vertices\n",
        "  if v in vertices:\n",
        "    print(\"Vertex \", v, \" already exists\")\n",
        "  else:\n",
        "    vertices_no = vertices_no + 1\n",
        "    vertices.append(v)\n",
        "    if vertices_no > 1:\n",
        "        for vertex in graph:\n",
        "            vertex.append(0)\n",
        "    temp = []\n",
        "    for i in range(vertices_no):\n",
        "        temp.append(0)\n",
        "    graph.append(temp)\n",
        "\n",
        "# Add an edge between vertex v1 and v2 with edge weight e\n",
        "def add_edge(v1, v2, e):\n",
        "    global graph\n",
        "    global vertices_no\n",
        "    global vertices\n",
        "    # Check if vertex v1 is a valid vertex\n",
        "    if v1 not in vertices:\n",
        "        print(\"Vertex \", v1, \" does not exist.\")\n",
        "    # Check if vertex v1 is a valid vertex\n",
        "    elif v2 not in vertices:\n",
        "        print(\"Vertex \", v2, \" does not exist.\")\n",
        "    # Since this code is not restricted to a directed or\n",
        "    # an undirected graph, an edge between v1 v2 does not\n",
        "    # imply that an edge exists between v2 and v1\n",
        "    else:\n",
        "        index1 = vertices.index(v1)\n",
        "        index2 = vertices.index(v2)\n",
        "        graph[index1][index2] = e\n",
        "\n",
        "# Print the graph\n",
        "def print_graph():\n",
        "  global graph\n",
        "  global vertices_no\n",
        "  for i in range(vertices_no):\n",
        "    for j in range(vertices_no):\n",
        "      if graph[i][j] != 0:\n",
        "        print(vertices[i], \" -> \", vertices[j],\n",
        "              \" edge weight: \", graph[i][j])"
      ]
    },
    {
      "cell_type": "code",
      "execution_count": 28,
      "metadata": {
        "id": "912w9tR0wFRh"
      },
      "outputs": [],
      "source": [
        "# stores the vertices in the graph\n",
        "vertices = []\n",
        "# stores the number of vertices in the graph\n",
        "vertices_no = 0\n",
        "graph = []"
      ]
    },
    {
      "cell_type": "markdown",
      "metadata": {
        "id": "lzkib3wYwFRh"
      },
      "source": [
        "<img src=\"https://github.com/robitussin/CCALCOMP_EXERCISES/blob/main/images/directed%20graph2.png?raw=true\"/>"
      ]
    },
    {
      "cell_type": "markdown",
      "metadata": {
        "id": "Qfh-2gbPwFRi"
      },
      "source": [
        "1. Print the edges and vertices of the graph in set representation. (`25 points`)"
      ]
    },
    {
      "cell_type": "code",
      "execution_count": 29,
      "metadata": {
        "id": "FSymqoxmwFRi",
        "colab": {
          "base_uri": "https://localhost:8080/"
        },
        "outputId": "4ca9e9db-8ff4-4f64-81d3-03d1495674ca"
      },
      "outputs": [
        {
          "output_type": "stream",
          "name": "stdout",
          "text": [
            "Vertices:\n",
            "{'C', 'B', 'A', 'E', 'D'}\n",
            "Edges:\n",
            "{('E', 'A'), ('A', 'C'), ('C', 'D'), ('B', 'A'), ('C', 'B'), ('A', 'D')}\n"
          ]
        }
      ],
      "source": [
        "# put your answer here\n",
        "vertex = {'A', 'B', 'C', 'D', 'E'}\n",
        "\n",
        "edge = {('A', 'C'), ('A', 'D'), ('B', 'A'), ('C', 'B'), ('C', 'D'),('E', 'A')}\n",
        "\n",
        "print(\"Vertices:\")\n",
        "print(vertex)\n",
        "\n",
        "print(\"Edges:\")\n",
        "print(edge)"
      ]
    },
    {
      "cell_type": "markdown",
      "metadata": {
        "id": "NHt6QEFzwFRi"
      },
      "source": [
        "2. Implement the weighted graph in python code. Use the print_graph() function. (`25 points`)"
      ]
    },
    {
      "cell_type": "code",
      "execution_count": 30,
      "metadata": {
        "id": "fcYP9VF9wFRj",
        "colab": {
          "base_uri": "https://localhost:8080/"
        },
        "outputId": "5af9b503-597c-400f-a767-3cb43e77cb77"
      },
      "outputs": [
        {
          "output_type": "stream",
          "name": "stdout",
          "text": [
            "A  ->  C  edge weight:  12\n",
            "A  ->  D  edge weight:  60\n",
            "B  ->  A  edge weight:  10\n",
            "C  ->  B  edge weight:  20\n",
            "C  ->  D  edge weight:  32\n",
            "E  ->  A  edge weight:  7\n",
            "[[0, 0, 12, 60, 0], [10, 0, 0, 0, 0], [0, 20, 0, 32, 0], [0, 0, 0, 0, 0], [7, 0, 0, 0, 0]]\n"
          ]
        }
      ],
      "source": [
        "# put your answer here\n",
        "add_vertex('A')\n",
        "add_vertex('B')\n",
        "add_vertex('C')\n",
        "add_vertex('D')\n",
        "add_vertex('E')\n",
        "\n",
        "add_edge('A', 'C', 12)\n",
        "add_edge('A', 'D', 60)\n",
        "add_edge('C', 'D', 32)\n",
        "add_edge('B', 'A', 10)\n",
        "add_edge('C', 'B', 20)\n",
        "add_edge('E', 'A', 7)\n",
        "\n",
        "print_graph()\n",
        "print(graph)"
      ]
    },
    {
      "cell_type": "markdown",
      "metadata": {
        "id": "kD-6afNTwFRj"
      },
      "source": [
        "3. You decided to go on a trip around the philippines. Being a computer scientist, you wanted to find the optimal route that would cost the least amount of money to travel all four cities. Find the route and print the total cost of the most optimal route. (`50 points`)"
      ]
    },
    {
      "cell_type": "markdown",
      "metadata": {
        "id": "cBHIHSIewFRj"
      },
      "source": [
        "<img src=\"https://github.com/robitussin/CCALCOMP_EXERCISES/blob/main/images/trip.png?raw=true\" width=\"500\" height=\"600\"/>"
      ]
    },
    {
      "cell_type": "code",
      "execution_count": 51,
      "metadata": {
        "id": "yNwmvIXnwFRj",
        "colab": {
          "base_uri": "https://localhost:8080/"
        },
        "outputId": "3b9cf8c6-7644-4df0-f518-b455d91d86e6"
      },
      "outputs": [
        {
          "output_type": "stream",
          "name": "stdout",
          "text": [
            "Optimal route: Manila -> Tacloban -> Puerto Princesa -> Davao\n",
            "Total cost: 11500\n"
          ]
        }
      ],
      "source": [
        "# put your answer here\n",
        "import itertools\n",
        "\n",
        "# Initialize the global variables for the graph\n",
        "vertices = []\n",
        "vertices_no = 0\n",
        "graph = []\n",
        "\n",
        "# Define the functions you provided for adding vertices, edges, and printing the graph\n",
        "\n",
        "def add_vertex(v):\n",
        "    global graph, vertices_no, vertices\n",
        "    if v in vertices:\n",
        "        print(\"Vertex \", v, \" already exists\")\n",
        "    else:\n",
        "        vertices_no += 1\n",
        "        vertices.append(v)\n",
        "        if vertices_no > 1:\n",
        "            for vertex in graph:\n",
        "                vertex.append(0)\n",
        "        temp = [0] * vertices_no\n",
        "        graph.append(temp)\n",
        "\n",
        "def add_edge(v1, v2, e):\n",
        "    global graph, vertices_no, vertices\n",
        "    # Check if vertex v1 is a valid vertex\n",
        "    if v1 not in vertices:\n",
        "        print(\"Vertex \", v1, \" does not exist.\")\n",
        "    # Check if vertex v2 is a valid vertex\n",
        "    elif v2 not in vertices:\n",
        "        print(\"Vertex \", v2, \" does not exist.\")\n",
        "    # Add the edge weight to the graph\n",
        "    else:\n",
        "        index1 = vertices.index(v1)\n",
        "        index2 = vertices.index(v2)\n",
        "        graph[index1][index2] = e\n",
        "\n",
        "def print_graph():\n",
        "    global graph, vertices_no\n",
        "    for i in range(vertices_no):\n",
        "        for j in range(vertices_no):\n",
        "            if graph[i][j] != 0:\n",
        "                print(f\"{vertices[i]} -> {vertices[j]} edge weight: {graph[i][j]}\")\n",
        "\n",
        "# Function to calculate the total cost of a route\n",
        "def calculate_route_cost(route):\n",
        "    total_cost = 0\n",
        "    for i in range(len(route) - 1):\n",
        "        index1 = vertices.index(route[i])\n",
        "        index2 = vertices.index(route[i + 1])\n",
        "        total_cost += graph[index1][index2]\n",
        "    # Add cost to return to the starting city\n",
        "    total_cost += graph[vertices.index(route[-1])][vertices.index(route[0])]\n",
        "    return total_cost\n",
        "\n",
        "# Function to find the optimal route\n",
        "def find_optimal_route():\n",
        "    global vertices\n",
        "    all_routes = list(itertools.permutations(vertices))\n",
        "    optimal_route = None\n",
        "    min_cost = float('inf')\n",
        "\n",
        "    for route in all_routes:\n",
        "        route_cost = calculate_route_cost(route)\n",
        "        if route_cost < min_cost:\n",
        "            min_cost = route_cost\n",
        "            optimal_route = route\n",
        "\n",
        "    return optimal_route, min_cost\n",
        "\n",
        "# Routes\n",
        "add_vertex('Manila')\n",
        "add_vertex('Puerto Princesa')\n",
        "add_vertex('Tacloban')\n",
        "add_vertex('Davao')\n",
        "\n",
        "add_edge('Manila', 'Tacloban', 1000)\n",
        "add_edge('Manila', 'Puerto Princesa', 8000)\n",
        "add_edge('Manila', 'Davao', 5000)\n",
        "add_edge('Tacloban', 'Manila', 1000)\n",
        "add_edge('Tacloban', 'Puerto Princesa', 1500)\n",
        "add_edge('Tacloban', 'Davao', 2000)\n",
        "add_edge('Puerto Princesa', 'Manila', 8000)\n",
        "add_edge('Puerto Princesa', 'Tacloban', 1500)\n",
        "add_edge('Puerto Princesa', 'Davao', 4000)\n",
        "add_edge('Davao', 'Tacloban', 2000)\n",
        "add_edge('Davao', 'Puerto Princesa', 4000)\n",
        "add_edge('Davao', 'Manila', 5000)\n",
        "\n",
        "# Find the optimal route and its total cost\n",
        "optimal_route, total_cost = find_optimal_route()\n",
        "print(f\"Optimal route: {' -> '.join(optimal_route)}\")\n",
        "print(f\"Total cost: {total_cost}\")"
      ]
    }
  ],
  "metadata": {
    "kernelspec": {
      "display_name": "base",
      "language": "python",
      "name": "python3"
    },
    "language_info": {
      "codemirror_mode": {
        "name": "ipython",
        "version": 3
      },
      "file_extension": ".py",
      "mimetype": "text/x-python",
      "name": "python",
      "nbconvert_exporter": "python",
      "pygments_lexer": "ipython3",
      "version": "3.9.6"
    },
    "colab": {
      "provenance": []
    }
  },
  "nbformat": 4,
  "nbformat_minor": 0
}